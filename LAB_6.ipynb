{
  "cells": [
    {
      "cell_type": "code",
      "execution_count": 1,
      "id": "444ccb8a",
      "metadata": {
        "id": "444ccb8a"
      },
      "outputs": [],
      "source": [
        "import pandas as pd\n",
        "from sklearn.model_selection import train_test_split\n",
        "from sklearn.impute import SimpleImputer\n",
        "from sklearn.preprocessing import LabelEncoder\n",
        "from sklearn.ensemble import AdaBoostClassifier\n",
        "from sklearn.linear_model import LogisticRegression\n",
        "from sklearn.metrics import accuracy_score\n",
        "import matplotlib.pyplot as plt\n"
      ]
    },
    {
      "cell_type": "code",
      "execution_count": 2,
      "id": "d2c9b93d",
      "metadata": {
        "id": "d2c9b93d"
      },
      "outputs": [],
      "source": [
        "\n",
        "train_df = pd.read_csv(\"train.csv\")\n",
        "test_df = pd.read_csv(\"test.csv\")\n",
        "\n"
      ]
    },
    {
      "cell_type": "code",
      "execution_count": 3,
      "id": "84d8b050",
      "metadata": {
        "id": "84d8b050"
      },
      "outputs": [],
      "source": [
        "\n",
        "combined_df = pd.concat([train_df, test_df], ignore_index=True)\n"
      ]
    },
    {
      "cell_type": "code",
      "execution_count": 4,
      "id": "5761aaf5",
      "metadata": {
        "colab": {
          "base_uri": "https://localhost:8080/"
        },
        "id": "5761aaf5",
        "outputId": "3aea8deb-e450-4dc1-fe4a-ffc12a468bfc"
      },
      "outputs": [
        {
          "output_type": "stream",
          "name": "stdout",
          "text": [
            "PassengerId       0\n",
            "Survived        418\n",
            "Pclass            0\n",
            "Name              0\n",
            "Sex               0\n",
            "Age             263\n",
            "SibSp             0\n",
            "Parch             0\n",
            "Ticket            0\n",
            "Fare              1\n",
            "Cabin          1014\n",
            "Embarked          2\n",
            "dtype: int64\n",
            "       PassengerId    Survived       Pclass          Age        SibSp  \\\n",
            "count  1309.000000  891.000000  1309.000000  1046.000000  1309.000000   \n",
            "mean    655.000000    0.383838     2.294882    29.881138     0.498854   \n",
            "std     378.020061    0.486592     0.837836    14.413493     1.041658   \n",
            "min       1.000000    0.000000     1.000000     0.170000     0.000000   \n",
            "25%     328.000000    0.000000     2.000000    21.000000     0.000000   \n",
            "50%     655.000000    0.000000     3.000000    28.000000     0.000000   \n",
            "75%     982.000000    1.000000     3.000000    39.000000     1.000000   \n",
            "max    1309.000000    1.000000     3.000000    80.000000     8.000000   \n",
            "\n",
            "             Parch         Fare  \n",
            "count  1309.000000  1308.000000  \n",
            "mean      0.385027    33.295479  \n",
            "std       0.865560    51.758668  \n",
            "min       0.000000     0.000000  \n",
            "25%       0.000000     7.895800  \n",
            "50%       0.000000    14.454200  \n",
            "75%       0.000000    31.275000  \n",
            "max       9.000000   512.329200  \n"
          ]
        }
      ],
      "source": [
        "# null values\n",
        "print(combined_df.isnull().sum())\n",
        "print(combined_df.describe())\n"
      ]
    },
    {
      "cell_type": "code",
      "execution_count": 5,
      "id": "cb5ce2a6",
      "metadata": {
        "id": "cb5ce2a6"
      },
      "outputs": [],
      "source": [
        "\n",
        "combined_df.drop(['PassengerId', 'Name', 'Ticket', 'Cabin'], axis=1, inplace=True)\n"
      ]
    },
    {
      "cell_type": "code",
      "execution_count": 6,
      "id": "fea5b8f6",
      "metadata": {
        "id": "fea5b8f6"
      },
      "outputs": [],
      "source": [
        "imputer = SimpleImputer(strategy='mean')\n",
        "combined_df[['Age', 'Fare']] = imputer.fit_transform(combined_df[['Age', 'Fare']])"
      ]
    },
    {
      "cell_type": "code",
      "execution_count": 7,
      "id": "cb7c1feb",
      "metadata": {
        "colab": {
          "base_uri": "https://localhost:8080/"
        },
        "id": "cb7c1feb",
        "outputId": "b9a47d40-8808-4332-ea96-5c00f772a332"
      },
      "outputs": [
        {
          "output_type": "stream",
          "name": "stdout",
          "text": [
            "<class 'pandas.core.frame.DataFrame'>\n",
            "RangeIndex: 1309 entries, 0 to 1308\n",
            "Data columns (total 8 columns):\n",
            " #   Column    Non-Null Count  Dtype  \n",
            "---  ------    --------------  -----  \n",
            " 0   Survived  891 non-null    float64\n",
            " 1   Pclass    1309 non-null   int64  \n",
            " 2   Sex       1309 non-null   object \n",
            " 3   Age       1309 non-null   float64\n",
            " 4   SibSp     1309 non-null   int64  \n",
            " 5   Parch     1309 non-null   int64  \n",
            " 6   Fare      1309 non-null   float64\n",
            " 7   Embarked  1307 non-null   object \n",
            "dtypes: float64(3), int64(3), object(2)\n",
            "memory usage: 81.9+ KB\n",
            "None\n"
          ]
        }
      ],
      "source": [
        "\n",
        "print(combined_df.info())\n",
        "\n",
        "\n",
        "combined_df.dropna(inplace=True)"
      ]
    },
    {
      "cell_type": "code",
      "execution_count": 8,
      "id": "f095127a",
      "metadata": {
        "id": "f095127a"
      },
      "outputs": [],
      "source": [
        "\n",
        "label_encoder = LabelEncoder()\n",
        "combined_df['Sex'] = label_encoder.fit_transform(combined_df['Sex'])\n",
        "combined_df['Embarked'] = label_encoder.fit_transform(combined_df['Embarked'])"
      ]
    },
    {
      "cell_type": "code",
      "execution_count": 9,
      "id": "2dcd9ff3",
      "metadata": {
        "id": "2dcd9ff3"
      },
      "outputs": [],
      "source": [
        "\n",
        "X = combined_df.drop('Survived', axis=1)\n",
        "y = combined_df['Survived']"
      ]
    },
    {
      "cell_type": "code",
      "execution_count": 10,
      "id": "30f26637",
      "metadata": {
        "id": "30f26637"
      },
      "outputs": [],
      "source": [
        "\n",
        "X_train, X_test, y_train, y_test = train_test_split(X, y, test_size=0.2, random_state=42)"
      ]
    },
    {
      "cell_type": "markdown",
      "source": [
        "ADABOOST"
      ],
      "metadata": {
        "id": "_A0tIXitqJfa"
      },
      "id": "_A0tIXitqJfa"
    },
    {
      "cell_type": "code",
      "execution_count": 12,
      "id": "a2934915",
      "metadata": {
        "colab": {
          "base_uri": "https://localhost:8080/",
          "height": 74
        },
        "id": "a2934915",
        "outputId": "8564c743-83db-4977-d1c3-79a6812c0923"
      },
      "outputs": [
        {
          "output_type": "execute_result",
          "data": {
            "text/plain": [
              "AdaBoostClassifier(n_estimators=100, random_state=42)"
            ],
            "text/html": [
              "<style>#sk-container-id-1 {color: black;background-color: white;}#sk-container-id-1 pre{padding: 0;}#sk-container-id-1 div.sk-toggleable {background-color: white;}#sk-container-id-1 label.sk-toggleable__label {cursor: pointer;display: block;width: 100%;margin-bottom: 0;padding: 0.3em;box-sizing: border-box;text-align: center;}#sk-container-id-1 label.sk-toggleable__label-arrow:before {content: \"▸\";float: left;margin-right: 0.25em;color: #696969;}#sk-container-id-1 label.sk-toggleable__label-arrow:hover:before {color: black;}#sk-container-id-1 div.sk-estimator:hover label.sk-toggleable__label-arrow:before {color: black;}#sk-container-id-1 div.sk-toggleable__content {max-height: 0;max-width: 0;overflow: hidden;text-align: left;background-color: #f0f8ff;}#sk-container-id-1 div.sk-toggleable__content pre {margin: 0.2em;color: black;border-radius: 0.25em;background-color: #f0f8ff;}#sk-container-id-1 input.sk-toggleable__control:checked~div.sk-toggleable__content {max-height: 200px;max-width: 100%;overflow: auto;}#sk-container-id-1 input.sk-toggleable__control:checked~label.sk-toggleable__label-arrow:before {content: \"▾\";}#sk-container-id-1 div.sk-estimator input.sk-toggleable__control:checked~label.sk-toggleable__label {background-color: #d4ebff;}#sk-container-id-1 div.sk-label input.sk-toggleable__control:checked~label.sk-toggleable__label {background-color: #d4ebff;}#sk-container-id-1 input.sk-hidden--visually {border: 0;clip: rect(1px 1px 1px 1px);clip: rect(1px, 1px, 1px, 1px);height: 1px;margin: -1px;overflow: hidden;padding: 0;position: absolute;width: 1px;}#sk-container-id-1 div.sk-estimator {font-family: monospace;background-color: #f0f8ff;border: 1px dotted black;border-radius: 0.25em;box-sizing: border-box;margin-bottom: 0.5em;}#sk-container-id-1 div.sk-estimator:hover {background-color: #d4ebff;}#sk-container-id-1 div.sk-parallel-item::after {content: \"\";width: 100%;border-bottom: 1px solid gray;flex-grow: 1;}#sk-container-id-1 div.sk-label:hover label.sk-toggleable__label {background-color: #d4ebff;}#sk-container-id-1 div.sk-serial::before {content: \"\";position: absolute;border-left: 1px solid gray;box-sizing: border-box;top: 0;bottom: 0;left: 50%;z-index: 0;}#sk-container-id-1 div.sk-serial {display: flex;flex-direction: column;align-items: center;background-color: white;padding-right: 0.2em;padding-left: 0.2em;position: relative;}#sk-container-id-1 div.sk-item {position: relative;z-index: 1;}#sk-container-id-1 div.sk-parallel {display: flex;align-items: stretch;justify-content: center;background-color: white;position: relative;}#sk-container-id-1 div.sk-item::before, #sk-container-id-1 div.sk-parallel-item::before {content: \"\";position: absolute;border-left: 1px solid gray;box-sizing: border-box;top: 0;bottom: 0;left: 50%;z-index: -1;}#sk-container-id-1 div.sk-parallel-item {display: flex;flex-direction: column;z-index: 1;position: relative;background-color: white;}#sk-container-id-1 div.sk-parallel-item:first-child::after {align-self: flex-end;width: 50%;}#sk-container-id-1 div.sk-parallel-item:last-child::after {align-self: flex-start;width: 50%;}#sk-container-id-1 div.sk-parallel-item:only-child::after {width: 0;}#sk-container-id-1 div.sk-dashed-wrapped {border: 1px dashed gray;margin: 0 0.4em 0.5em 0.4em;box-sizing: border-box;padding-bottom: 0.4em;background-color: white;}#sk-container-id-1 div.sk-label label {font-family: monospace;font-weight: bold;display: inline-block;line-height: 1.2em;}#sk-container-id-1 div.sk-label-container {text-align: center;}#sk-container-id-1 div.sk-container {/* jupyter's `normalize.less` sets `[hidden] { display: none; }` but bootstrap.min.css set `[hidden] { display: none !important; }` so we also need the `!important` here to be able to override the default hidden behavior on the sphinx rendered scikit-learn.org. See: https://github.com/scikit-learn/scikit-learn/issues/21755 */display: inline-block !important;position: relative;}#sk-container-id-1 div.sk-text-repr-fallback {display: none;}</style><div id=\"sk-container-id-1\" class=\"sk-top-container\"><div class=\"sk-text-repr-fallback\"><pre>AdaBoostClassifier(n_estimators=100, random_state=42)</pre><b>In a Jupyter environment, please rerun this cell to show the HTML representation or trust the notebook. <br />On GitHub, the HTML representation is unable to render, please try loading this page with nbviewer.org.</b></div><div class=\"sk-container\" hidden><div class=\"sk-item\"><div class=\"sk-estimator sk-toggleable\"><input class=\"sk-toggleable__control sk-hidden--visually\" id=\"sk-estimator-id-1\" type=\"checkbox\" checked><label for=\"sk-estimator-id-1\" class=\"sk-toggleable__label sk-toggleable__label-arrow\">AdaBoostClassifier</label><div class=\"sk-toggleable__content\"><pre>AdaBoostClassifier(n_estimators=100, random_state=42)</pre></div></div></div></div></div>"
            ]
          },
          "metadata": {},
          "execution_count": 12
        }
      ],
      "source": [
        "\n",
        "ada_boost = AdaBoostClassifier(n_estimators=100, random_state=42)\n",
        "ada_boost.fit(X_train, y_train)\n"
      ]
    },
    {
      "cell_type": "code",
      "source": [
        "ada_boost_pred = ada_boost.predict(X_test)\n",
        "ada_boost_accuracy = accuracy_score(y_test, ada_boost_pred)\n",
        "print(\"AdaBoost Classifier Accuracy:\", ada_boost_accuracy)"
      ],
      "metadata": {
        "colab": {
          "base_uri": "https://localhost:8080/"
        },
        "id": "xtzY_Bs6n63G",
        "outputId": "54a102b6-6b7d-4e86-b1f7-4a4c8bcbc4da"
      },
      "id": "xtzY_Bs6n63G",
      "execution_count": 13,
      "outputs": [
        {
          "output_type": "stream",
          "name": "stdout",
          "text": [
            "AdaBoost Classifier Accuracy: 0.8033707865168539\n"
          ]
        }
      ]
    },
    {
      "cell_type": "code",
      "source": [
        "predictions = ada_boost.predict(X_test)"
      ],
      "metadata": {
        "id": "QBIc0NG5oFr6"
      },
      "id": "QBIc0NG5oFr6",
      "execution_count": 18,
      "outputs": []
    },
    {
      "cell_type": "code",
      "source": [
        "from sklearn.metrics import classification_report\n",
        "print(classification_report(y_test,predictions))"
      ],
      "metadata": {
        "colab": {
          "base_uri": "https://localhost:8080/"
        },
        "id": "8TRXYfRDoR9S",
        "outputId": "45298ac5-40f3-4416-ccfe-105a1769bcbf"
      },
      "id": "8TRXYfRDoR9S",
      "execution_count": 19,
      "outputs": [
        {
          "output_type": "stream",
          "name": "stdout",
          "text": [
            "              precision    recall  f1-score   support\n",
            "\n",
            "         0.0       0.88      0.79      0.83       109\n",
            "         1.0       0.71      0.83      0.77        69\n",
            "\n",
            "    accuracy                           0.80       178\n",
            "   macro avg       0.80      0.81      0.80       178\n",
            "weighted avg       0.81      0.80      0.81       178\n",
            "\n"
          ]
        }
      ]
    },
    {
      "cell_type": "code",
      "source": [
        "print (f'Train Accuracy - : {ada_boost.score(X_train,y_train)}')\n",
        "print (f'Test Accuracy - : {ada_boost.score(X_test,y_test)}')\n",
        ""
      ],
      "metadata": {
        "colab": {
          "base_uri": "https://localhost:8080/"
        },
        "id": "w-824m6moTna",
        "outputId": "c4bc0b17-95fb-4e80-fa1d-03d2ec2d7e2c"
      },
      "id": "w-824m6moTna",
      "execution_count": 22,
      "outputs": [
        {
          "output_type": "stream",
          "name": "stdout",
          "text": [
            "Train Accuracy - : 0.8579465541490858\n",
            "Test Accuracy - : 0.8033707865168539\n"
          ]
        }
      ]
    },
    {
      "cell_type": "markdown",
      "source": [
        "LOGISTIC REGRESSION"
      ],
      "metadata": {
        "id": "r0dtLk3Up_Yn"
      },
      "id": "r0dtLk3Up_Yn"
    },
    {
      "cell_type": "code",
      "execution_count": 15,
      "id": "949d45f0",
      "metadata": {
        "colab": {
          "base_uri": "https://localhost:8080/",
          "height": 213
        },
        "id": "949d45f0",
        "outputId": "b8347e71-a5ee-4ae3-9b9f-f06bcac2f21d"
      },
      "outputs": [
        {
          "output_type": "stream",
          "name": "stderr",
          "text": [
            "/usr/local/lib/python3.10/dist-packages/sklearn/linear_model/_logistic.py:458: ConvergenceWarning: lbfgs failed to converge (status=1):\n",
            "STOP: TOTAL NO. of ITERATIONS REACHED LIMIT.\n",
            "\n",
            "Increase the number of iterations (max_iter) or scale the data as shown in:\n",
            "    https://scikit-learn.org/stable/modules/preprocessing.html\n",
            "Please also refer to the documentation for alternative solver options:\n",
            "    https://scikit-learn.org/stable/modules/linear_model.html#logistic-regression\n",
            "  n_iter_i = _check_optimize_result(\n"
          ]
        },
        {
          "output_type": "execute_result",
          "data": {
            "text/plain": [
              "LogisticRegression()"
            ],
            "text/html": [
              "<style>#sk-container-id-2 {color: black;background-color: white;}#sk-container-id-2 pre{padding: 0;}#sk-container-id-2 div.sk-toggleable {background-color: white;}#sk-container-id-2 label.sk-toggleable__label {cursor: pointer;display: block;width: 100%;margin-bottom: 0;padding: 0.3em;box-sizing: border-box;text-align: center;}#sk-container-id-2 label.sk-toggleable__label-arrow:before {content: \"▸\";float: left;margin-right: 0.25em;color: #696969;}#sk-container-id-2 label.sk-toggleable__label-arrow:hover:before {color: black;}#sk-container-id-2 div.sk-estimator:hover label.sk-toggleable__label-arrow:before {color: black;}#sk-container-id-2 div.sk-toggleable__content {max-height: 0;max-width: 0;overflow: hidden;text-align: left;background-color: #f0f8ff;}#sk-container-id-2 div.sk-toggleable__content pre {margin: 0.2em;color: black;border-radius: 0.25em;background-color: #f0f8ff;}#sk-container-id-2 input.sk-toggleable__control:checked~div.sk-toggleable__content {max-height: 200px;max-width: 100%;overflow: auto;}#sk-container-id-2 input.sk-toggleable__control:checked~label.sk-toggleable__label-arrow:before {content: \"▾\";}#sk-container-id-2 div.sk-estimator input.sk-toggleable__control:checked~label.sk-toggleable__label {background-color: #d4ebff;}#sk-container-id-2 div.sk-label input.sk-toggleable__control:checked~label.sk-toggleable__label {background-color: #d4ebff;}#sk-container-id-2 input.sk-hidden--visually {border: 0;clip: rect(1px 1px 1px 1px);clip: rect(1px, 1px, 1px, 1px);height: 1px;margin: -1px;overflow: hidden;padding: 0;position: absolute;width: 1px;}#sk-container-id-2 div.sk-estimator {font-family: monospace;background-color: #f0f8ff;border: 1px dotted black;border-radius: 0.25em;box-sizing: border-box;margin-bottom: 0.5em;}#sk-container-id-2 div.sk-estimator:hover {background-color: #d4ebff;}#sk-container-id-2 div.sk-parallel-item::after {content: \"\";width: 100%;border-bottom: 1px solid gray;flex-grow: 1;}#sk-container-id-2 div.sk-label:hover label.sk-toggleable__label {background-color: #d4ebff;}#sk-container-id-2 div.sk-serial::before {content: \"\";position: absolute;border-left: 1px solid gray;box-sizing: border-box;top: 0;bottom: 0;left: 50%;z-index: 0;}#sk-container-id-2 div.sk-serial {display: flex;flex-direction: column;align-items: center;background-color: white;padding-right: 0.2em;padding-left: 0.2em;position: relative;}#sk-container-id-2 div.sk-item {position: relative;z-index: 1;}#sk-container-id-2 div.sk-parallel {display: flex;align-items: stretch;justify-content: center;background-color: white;position: relative;}#sk-container-id-2 div.sk-item::before, #sk-container-id-2 div.sk-parallel-item::before {content: \"\";position: absolute;border-left: 1px solid gray;box-sizing: border-box;top: 0;bottom: 0;left: 50%;z-index: -1;}#sk-container-id-2 div.sk-parallel-item {display: flex;flex-direction: column;z-index: 1;position: relative;background-color: white;}#sk-container-id-2 div.sk-parallel-item:first-child::after {align-self: flex-end;width: 50%;}#sk-container-id-2 div.sk-parallel-item:last-child::after {align-self: flex-start;width: 50%;}#sk-container-id-2 div.sk-parallel-item:only-child::after {width: 0;}#sk-container-id-2 div.sk-dashed-wrapped {border: 1px dashed gray;margin: 0 0.4em 0.5em 0.4em;box-sizing: border-box;padding-bottom: 0.4em;background-color: white;}#sk-container-id-2 div.sk-label label {font-family: monospace;font-weight: bold;display: inline-block;line-height: 1.2em;}#sk-container-id-2 div.sk-label-container {text-align: center;}#sk-container-id-2 div.sk-container {/* jupyter's `normalize.less` sets `[hidden] { display: none; }` but bootstrap.min.css set `[hidden] { display: none !important; }` so we also need the `!important` here to be able to override the default hidden behavior on the sphinx rendered scikit-learn.org. See: https://github.com/scikit-learn/scikit-learn/issues/21755 */display: inline-block !important;position: relative;}#sk-container-id-2 div.sk-text-repr-fallback {display: none;}</style><div id=\"sk-container-id-2\" class=\"sk-top-container\"><div class=\"sk-text-repr-fallback\"><pre>LogisticRegression()</pre><b>In a Jupyter environment, please rerun this cell to show the HTML representation or trust the notebook. <br />On GitHub, the HTML representation is unable to render, please try loading this page with nbviewer.org.</b></div><div class=\"sk-container\" hidden><div class=\"sk-item\"><div class=\"sk-estimator sk-toggleable\"><input class=\"sk-toggleable__control sk-hidden--visually\" id=\"sk-estimator-id-2\" type=\"checkbox\" checked><label for=\"sk-estimator-id-2\" class=\"sk-toggleable__label sk-toggleable__label-arrow\">LogisticRegression</label><div class=\"sk-toggleable__content\"><pre>LogisticRegression()</pre></div></div></div></div></div>"
            ]
          },
          "metadata": {},
          "execution_count": 15
        }
      ],
      "source": [
        "\n",
        "logistic_reg = LogisticRegression()\n",
        "logistic_reg.fit(X_train, y_train)"
      ]
    },
    {
      "cell_type": "code",
      "execution_count": 16,
      "id": "0e5275c3",
      "metadata": {
        "id": "0e5275c3",
        "colab": {
          "base_uri": "https://localhost:8080/"
        },
        "outputId": "67afee0d-7788-4bc1-9072-8e631c63e6a7"
      },
      "outputs": [
        {
          "output_type": "stream",
          "name": "stdout",
          "text": [
            "Logistic Regression Accuracy: 0.7752808988764045\n"
          ]
        }
      ],
      "source": [
        "\n",
        "logistic_reg_pred = logistic_reg.predict(X_test)\n",
        "logistic_reg_accuracy = accuracy_score(y_test, logistic_reg_pred)\n",
        "print(\"Logistic Regression Accuracy:\", logistic_reg_accuracy)"
      ]
    },
    {
      "cell_type": "code",
      "source": [],
      "metadata": {
        "id": "7ku34FtWn_X8"
      },
      "id": "7ku34FtWn_X8",
      "execution_count": null,
      "outputs": []
    }
  ],
  "metadata": {
    "kernelspec": {
      "display_name": "Python 3 (ipykernel)",
      "language": "python",
      "name": "python3"
    },
    "language_info": {
      "codemirror_mode": {
        "name": "ipython",
        "version": 3
      },
      "file_extension": ".py",
      "mimetype": "text/x-python",
      "name": "python",
      "nbconvert_exporter": "python",
      "pygments_lexer": "ipython3",
      "version": "3.11.3"
    },
    "colab": {
      "provenance": []
    }
  },
  "nbformat": 4,
  "nbformat_minor": 5
}
